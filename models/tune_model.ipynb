{
 "cells": [
  {
   "cell_type": "markdown",
   "source": [
    "<h2> Introduction </h2<"
   ],
   "metadata": {
    "collapsed": false,
    "pycharm": {
     "name": "#%% md\n"
    }
   }
  },
  {
   "cell_type": "code",
   "execution_count": null,
   "outputs": [],
   "source": [
    "# Importing python modules\n",
    "import pandas as pd\n",
    "import warnings\n",
    "import mlflow\n",
    "from sklearn.preprocessing import OrdinalEncoder\n",
    "from sklearn.preprocessing import StandardScaler, RobustScaler\n",
    "from sklearn.model_selection import train_test_split\n",
    "from sklearn.svm import SVC\n",
    "from sklearn.linear_model import LogisticRegression\n",
    "from sklearn.ensemble import RandomForestClassifier, VotingClassifier\n",
    "from sklearn.metrics import accuracy_score, f1_score\n",
    "warnings.filterwarnings(action= \"ignore\", message= \"Ignoring Warning\")"
   ],
   "metadata": {
    "collapsed": false,
    "pycharm": {
     "name": "#%%\n",
     "is_executing": true
    }
   }
  },
  {
   "cell_type": "code",
   "execution_count": null,
   "id": "8ad6e221-ee38-4ec7-9810-cfda75f46620",
   "metadata": {
    "pycharm": {
     "name": "#%%\n",
     "is_executing": true
    }
   },
   "outputs": [],
   "source": [
    "loan_df = pd.read_csv('./dataset/loan_data_set.csv')  # using pandas read_csv function to load the loan data."
   ]
  },
  {
   "cell_type": "code",
   "execution_count": null,
   "id": "0b47b79f-5f3c-4aa1-9eb7-ee8dabed7b60",
   "metadata": {
    "pycharm": {
     "name": "#%%\n",
     "is_executing": true
    }
   },
   "outputs": [],
   "source": [
    "loan_df.head(20)  # returns first 20 samples of the loan data"
   ]
  },
  {
   "cell_type": "code",
   "execution_count": null,
   "id": "e35ce754-61e1-4372-903a-7f6d1f55d331",
   "metadata": {
    "pycharm": {
     "name": "#%%\n",
     "is_executing": true
    }
   },
   "outputs": [],
   "source": [
    "loan_df.describe()  # describes statistical information on integer columns of the data."
   ]
  },
  {
   "cell_type": "code",
   "execution_count": null,
   "id": "3243c5f3-e474-466f-ada7-06c7dfa335d8",
   "metadata": {
    "pycharm": {
     "name": "#%%\n",
     "is_executing": true
    }
   },
   "outputs": [],
   "source": [
    "loan_df.info()  # shows information on the loan data like columns with null data and datatype of each column."
   ]
  },
  {
   "cell_type": "code",
   "execution_count": null,
   "id": "63d7a80b-81a6-430f-b316-1e461d4aafa8",
   "metadata": {
    "pycharm": {
     "name": "#%%\n",
     "is_executing": true
    }
   },
   "outputs": [],
   "source": [
    "loan_df.isnull().sum()  # counts number null values present in each columns."
   ]
  },
  {
   "cell_type": "code",
   "execution_count": null,
   "id": "f04fc599-39c4-44db-8c59-20317f0450ac",
   "metadata": {
    "pycharm": {
     "name": "#%%\n",
     "is_executing": true
    }
   },
   "outputs": [],
   "source": [
    "# creating a list of columns with null values\n",
    "col_null = []\n",
    "column = list(loan_df.columns)\n",
    "print(column)\n",
    "for col in column:\n",
    "    if loan_df[col].isna().sum() > 0:\n",
    "        col_null.append(col)\n",
    "print(col_null)"
   ]
  },
  {
   "cell_type": "code",
   "execution_count": null,
   "id": "0d33ba18-0691-4560-b182-1ba500156f44",
   "metadata": {
    "tags": [],
    "pycharm": {
     "name": "#%%\n",
     "is_executing": true
    }
   },
   "outputs": [],
   "source": [
    "# creating a list of the modes for each of the columns with missing values\n",
    "mode = []\n",
    "for miss in col_null:\n",
    "    mode.append(loan_df[miss].mode())\n",
    "print(mode)"
   ]
  },
  {
   "cell_type": "code",
   "execution_count": null,
   "id": "926a7c06-3c59-48bb-a683-b9ca54cc68b9",
   "metadata": {
    "pycharm": {
     "name": "#%%\n",
     "is_executing": true
    }
   },
   "outputs": [],
   "source": [
    "# picks the modes in each values inside the list.\n",
    "real_mode = []\n",
    "for modes in mode:\n",
    "    real_mode.append(modes[0])\n",
    "print(real_mode)"
   ]
  },
  {
   "cell_type": "code",
   "execution_count": null,
   "id": "f679dbd8-7129-404c-bb6e-6981e682f7ba",
   "metadata": {
    "pycharm": {
     "name": "#%%\n",
     "is_executing": true
    }
   },
   "outputs": [],
   "source": [
    "# creates a dictionary where the keys are the missing columns and the values show the mode of each columns\n",
    "val = {}\n",
    "for miss in col_null:\n",
    "    for m in real_mode:\n",
    "        val[miss] = m\n",
    "        real_mode.remove(m)\n",
    "        break"
   ]
  },
  {
   "cell_type": "code",
   "execution_count": null,
   "id": "f0fe9071-7f86-4cae-9023-e154482bc0e8",
   "metadata": {
    "pycharm": {
     "name": "#%%\n",
     "is_executing": true
    }
   },
   "outputs": [],
   "source": [
    "print(val)"
   ]
  },
  {
   "cell_type": "code",
   "execution_count": null,
   "id": "4c132805-0f6d-47ed-ac7e-e00526e43537",
   "metadata": {
    "pycharm": {
     "name": "#%%\n",
     "is_executing": true
    }
   },
   "outputs": [],
   "source": [
    "# fills the missing values in each column\n",
    "for i,k in val.items():\n",
    "    loan_df[i].fillna(k, inplace= True)"
   ]
  },
  {
   "cell_type": "code",
   "execution_count": null,
   "id": "76f6c2dc-2e29-42cb-b771-af03ffbe284f",
   "metadata": {
    "pycharm": {
     "name": "#%%\n",
     "is_executing": true
    }
   },
   "outputs": [],
   "source": [
    "loan_df.info()  # checking number of missing values present."
   ]
  },
  {
   "cell_type": "code",
   "execution_count": null,
   "id": "d2106556-d1a6-4bd7-872d-cbea7e68251f",
   "metadata": {
    "pycharm": {
     "name": "#%%\n",
     "is_executing": true
    }
   },
   "outputs": [],
   "source": [
    "loan_df.isnull().sum()"
   ]
  },
  {
   "cell_type": "code",
   "execution_count": null,
   "id": "83289912-9fb4-4502-b445-ac05688b194d",
   "metadata": {
    "pycharm": {
     "name": "#%%\n",
     "is_executing": true
    }
   },
   "outputs": [],
   "source": [
    "#  identifying columns with object datatype\n",
    "s = (loan_df.dtypes == 'object')"
   ]
  },
  {
   "cell_type": "code",
   "execution_count": null,
   "id": "1b1ea240-6554-408b-832f-719cd9a254fd",
   "metadata": {
    "pycharm": {
     "name": "#%%\n",
     "is_executing": true
    }
   },
   "outputs": [],
   "source": [
    "# creating list of objects with object datatypes.\n",
    "obj_col = list(s[s].index)\n",
    "obj_col.remove(\"Loan_ID\")  # removing the id column"
   ]
  },
  {
   "cell_type": "code",
   "execution_count": null,
   "id": "c772b141-a5d3-4606-987a-bee8d7ff175c",
   "metadata": {
    "pycharm": {
     "name": "#%%\n",
     "is_executing": true
    }
   },
   "outputs": [],
   "source": [
    "obj_col"
   ]
  },
  {
   "cell_type": "code",
   "execution_count": null,
   "id": "cca421de-7e8b-4ffd-90c1-7e69d5c6ec70",
   "metadata": {
    "pycharm": {
     "name": "#%%\n",
     "is_executing": true
    }
   },
   "outputs": [],
   "source": [
    "ordinate = OrdinalEncoder()  # the ordinate object takes the OrdinalEncoder class as it's values."
   ]
  },
  {
   "cell_type": "code",
   "execution_count": null,
   "id": "20af83ed-3b29-4110-b239-34c650019370",
   "metadata": {
    "pycharm": {
     "name": "#%%\n",
     "is_executing": true
    }
   },
   "outputs": [],
   "source": [
    "loan_data = loan_df.copy()  # making a copy of the loan_df to be stored with loan_data"
   ]
  },
  {
   "cell_type": "code",
   "execution_count": null,
   "id": "d6993289-0409-4147-aac0-e13f62603775",
   "metadata": {
    "pycharm": {
     "name": "#%%\n",
     "is_executing": true
    }
   },
   "outputs": [],
   "source": [
    "# transforming the columns with object datatypes.\n",
    "loan_data[obj_col] = ordinate.fit_transform(loan_data[obj_col])"
   ]
  },
  {
   "cell_type": "code",
   "execution_count": null,
   "id": "b16a67ab-c196-4271-9b47-7eafce648757",
   "metadata": {
    "pycharm": {
     "name": "#%%\n",
     "is_executing": true
    }
   },
   "outputs": [],
   "source": [
    "loan_data.head()  # outputs top 5 rows of the dataset."
   ]
  },
  {
   "cell_type": "code",
   "execution_count": null,
   "id": "540da511-5fa9-47bd-9bce-10aa44ccf974",
   "metadata": {
    "pycharm": {
     "name": "#%%\n",
     "is_executing": true
    }
   },
   "outputs": [],
   "source": [
    "X = loan_data.drop([\"Loan_Status\", \"Loan_ID\"], axis= 1)  # variable X after dropping off the Loan_Status and Loan_ID\n",
    "y = loan_data.Loan_Status  # variable y takes the Loan Status column."
   ]
  },
  {
   "cell_type": "code",
   "execution_count": null,
   "id": "ed62e87e-7c0f-446b-9452-e4003d94928c",
   "metadata": {
    "pycharm": {
     "name": "#%%\n",
     "is_executing": true
    }
   },
   "outputs": [],
   "source": [
    "scale = StandardScaler()  # creating a variable named scale saving the StandardScaler class\n",
    "rob = RobustScaler()  # creating a variable named rob saving the RobustScaler class."
   ]
  },
  {
   "cell_type": "code",
   "execution_count": null,
   "id": "21da2a25-9d3e-480b-b64b-160703d8bc9b",
   "metadata": {
    "pycharm": {
     "name": "#%%\n",
     "is_executing": true
    }
   },
   "outputs": [],
   "source": [
    "# transforming the variable X using the scale and robust class\n",
    "scaled_X = scale.fit_transform(X)\n",
    "rob_X = rob.fit_transform(X, y)"
   ]
  },
  {
   "cell_type": "code",
   "execution_count": null,
   "id": "fac0bfbe-8489-43a0-83e3-bc3d3517e644",
   "metadata": {
    "pycharm": {
     "name": "#%%\n",
     "is_executing": true
    }
   },
   "outputs": [],
   "source": [
    "train_X, test_X, train_y, test_y = train_test_split(rob_X, y, random_state=1234, test_size= 0.2)"
   ]
  },
  {
   "cell_type": "code",
   "execution_count": null,
   "outputs": [],
   "source": [
    "# creating variables to store algorithm classes\n",
    "lr = LogisticRegression(random_state= 1234, n_jobs= 1)\n",
    "svc = SVC(random_state= 1234, C =1, kernel= 'poly', degree= 0, max_iter= 1)\n",
    "rf = RandomForestClassifier(n_estimators= 100, n_jobs= 1, max_leaf_nodes= 6)"
   ],
   "metadata": {
    "collapsed": false,
    "pycharm": {
     "name": "#%%\n",
     "is_executing": true
    }
   }
  },
  {
   "cell_type": "code",
   "execution_count": null,
   "id": "76d88f62-e83b-45e5-9daa-55312d4caf8f",
   "metadata": {
    "pycharm": {
     "name": "#%%\n",
     "is_executing": true
    }
   },
   "outputs": [],
   "source": [
    "voting_clf = VotingClassifier(\n",
    "    estimators= [('lr', lr), ('rf', rf), ('svc', svc)],\n",
    "    voting = \"hard\",\n",
    ")"
   ]
  },
  {
   "cell_type": "code",
   "execution_count": null,
   "id": "98ace6e8-4751-470f-a207-4488cde12bd6",
   "metadata": {
    "pycharm": {
     "name": "#%%\n",
     "is_executing": true
    }
   },
   "outputs": [],
   "source": [
    "voting_clf.fit(train_X, train_y)"
   ]
  },
  {
   "cell_type": "code",
   "execution_count": null,
   "id": "9650eb16-5730-4c27-8fa4-93d817c27c34",
   "metadata": {
    "pycharm": {
     "name": "#%%\n",
     "is_executing": true
    }
   },
   "outputs": [],
   "source": [
    "for clf in (lr, rf, svc, voting_clf):\n",
    "    clf.fit(train_X, train_y)\n",
    "    y_pred = clf.predict(test_X)\n",
    "    print(clf.__class__.__name__, accuracy_score(y_pred, test_y), f1_score(y_pred, test_y))"
   ]
  },
  {
   "cell_type": "code",
   "execution_count": null,
   "id": "64e96d91-34b3-4f98-ab69-934510294862",
   "metadata": {
    "pycharm": {
     "name": "#%%\n",
     "is_executing": true
    }
   },
   "outputs": [],
   "source": [
    "new_file = {}\n",
    "details = ['Male', 'No', 1, 'Not Graduate', 'No', int(2000), int(0), int(55), int(180), int(0), 'Rural']\n",
    "column.remove('Loan_ID')\n",
    "column.remove('Loan_Status')\n",
    "for col in column :\n",
    "    for det in details:\n",
    "        new_file[col] = det\n",
    "        details.remove(det)\n",
    "        break"
   ]
  },
  {
   "cell_type": "code",
   "execution_count": null,
   "id": "d37f8c66-55c3-413a-87c2-32f849b6b1bd",
   "metadata": {
    "pycharm": {
     "name": "#%%\n",
     "is_executing": true
    }
   },
   "outputs": [],
   "source": [
    "import numpy as np\n",
    "detail = ['Male', 'No', 1, 'Not Graduate', 'No', int(2000), int(0), int(55), int(180), int(0), 'Rural']\n",
    "np_det = np.array([detail])"
   ]
  },
  {
   "cell_type": "code",
   "execution_count": null,
   "id": "2ccda472-e591-4e1c-960e-41567b95731e",
   "metadata": {
    "pycharm": {
     "name": "#%%\n",
     "is_executing": true
    }
   },
   "outputs": [],
   "source": [
    "print(np_det.shape)\n",
    "new_data = pd.DataFrame(new_file, columns= column, index = range(1))"
   ]
  },
  {
   "cell_type": "code",
   "execution_count": null,
   "id": "e71535f1-d144-4f99-a6c8-973f2fb49a72",
   "metadata": {
    "pycharm": {
     "name": "#%%\n",
     "is_executing": true
    }
   },
   "outputs": [],
   "source": [
    "new_fil = np.array(new_file)"
   ]
  },
  {
   "cell_type": "code",
   "execution_count": null,
   "id": "c20f7197-9856-4fd6-b570-d6d01c957ee5",
   "metadata": {
    "pycharm": {
     "name": "#%%\n",
     "is_executing": true
    }
   },
   "outputs": [],
   "source": [
    "new_file"
   ]
  },
  {
   "cell_type": "code",
   "execution_count": null,
   "id": "38678b7d-8481-43bc-89e5-31ddf6188054",
   "metadata": {
    "pycharm": {
     "name": "#%%\n",
     "is_executing": true
    }
   },
   "outputs": [],
   "source": [
    "new_data.info()"
   ]
  },
  {
   "cell_type": "code",
   "execution_count": null,
   "id": "a9886bd5-ff3f-4411-823b-1539f1579adb",
   "metadata": {
    "pycharm": {
     "name": "#%%\n",
     "is_executing": true
    }
   },
   "outputs": [],
   "source": [
    "new_data"
   ]
  },
  {
   "cell_type": "code",
   "execution_count": null,
   "id": "fb84544a-6162-42bc-b48e-33e30310530f",
   "metadata": {
    "pycharm": {
     "name": "#%%\n",
     "is_executing": true
    }
   },
   "outputs": [],
   "source": [
    "y = (new_data.dtypes == 'object')\n",
    "obj = list(y[y].index)\n",
    "new_data[obj] = ordinate.fit_transform(new_data[obj])"
   ]
  },
  {
   "cell_type": "code",
   "execution_count": null,
   "id": "906dfd28-8f76-468a-96b7-540c10145b8e",
   "metadata": {
    "pycharm": {
     "name": "#%%\n",
     "is_executing": true
    }
   },
   "outputs": [],
   "source": [
    "new_data"
   ]
  },
  {
   "cell_type": "code",
   "execution_count": null,
   "id": "255c82c4-e26f-4611-8dad-7a40a4381ae5",
   "metadata": {
    "pycharm": {
     "name": "#%%\n",
     "is_executing": true
    }
   },
   "outputs": [],
   "source": [
    "new_pred = voting_clf.predict(new_data)"
   ]
  },
  {
   "cell_type": "code",
   "execution_count": null,
   "id": "21684bd6-2d15-42f2-be3d-bad498335252",
   "metadata": {
    "pycharm": {
     "name": "#%%\n",
     "is_executing": true
    }
   },
   "outputs": [],
   "source": [
    "new_pred"
   ]
  },
  {
   "cell_type": "code",
   "execution_count": null,
   "id": "d81071a6-2bea-4cbf-be4f-635c34cd0dfa",
   "metadata": {
    "pycharm": {
     "name": "#%%\n",
     "is_executing": true
    }
   },
   "outputs": [],
   "source": []
  }
 ],
 "metadata": {
  "kernelspec": {
   "display_name": "Python 3 (ipykernel)",
   "language": "python",
   "name": "python3"
  },
  "language_info": {
   "codemirror_mode": {
    "name": "ipython",
    "version": 3
   },
   "file_extension": ".py",
   "mimetype": "text/x-python",
   "name": "python",
   "nbconvert_exporter": "python",
   "pygments_lexer": "ipython3",
   "version": "3.9.7"
  },
  "toc-autonumbering": true,
  "toc-showcode": true,
  "toc-showtags": false
 },
 "nbformat": 4,
 "nbformat_minor": 5
}