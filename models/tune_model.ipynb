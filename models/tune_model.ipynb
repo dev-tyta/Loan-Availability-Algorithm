{
 "cells": [
  {
   "cell_type": "markdown",
   "source": [
    "<h2> Introduction </h2<"
   ],
   "metadata": {
    "collapsed": false,
    "pycharm": {
     "name": "#%% md\n"
    }
   }
  },
  {
   "cell_type": "code",
   "execution_count": 1,
   "outputs": [],
   "source": [
    "# Importing python modules\n",
    "import pandas as pd\n",
    "import warnings\n",
    "warnings.filterwarnings(action= \"ignore\", message= \"Ignoring Warning\")"
   ],
   "metadata": {
    "collapsed": false,
    "pycharm": {
     "name": "#%%\n"
    }
   }
  },
  {
   "cell_type": "code",
   "execution_count": 2,
   "id": "8ad6e221-ee38-4ec7-9810-cfda75f46620",
   "metadata": {},
   "outputs": [],
   "source": [
    "loan_df = pd.read_csv('./dataset/loan_data_set.csv')  # using pandas read_csv function to load the loan data."
   ]
  },
  {
   "cell_type": "code",
   "execution_count": 3,
   "id": "0b47b79f-5f3c-4aa1-9eb7-ee8dabed7b60",
   "metadata": {},
   "outputs": [
    {
     "data": {
      "text/plain": "     Loan_ID  Gender Married Dependents     Education Self_Employed  \\\n0   LP001002    Male      No          0      Graduate            No   \n1   LP001003    Male     Yes          1      Graduate            No   \n2   LP001005    Male     Yes          0      Graduate           Yes   \n3   LP001006    Male     Yes          0  Not Graduate            No   \n4   LP001008    Male      No          0      Graduate            No   \n5   LP001011    Male     Yes          2      Graduate           Yes   \n6   LP001013    Male     Yes          0  Not Graduate            No   \n7   LP001014    Male     Yes         3+      Graduate            No   \n8   LP001018    Male     Yes          2      Graduate            No   \n9   LP001020    Male     Yes          1      Graduate            No   \n10  LP001024    Male     Yes          2      Graduate            No   \n11  LP001027    Male     Yes          2      Graduate           NaN   \n12  LP001028    Male     Yes          2      Graduate            No   \n13  LP001029    Male      No          0      Graduate            No   \n14  LP001030    Male     Yes          2      Graduate            No   \n15  LP001032    Male      No          0      Graduate            No   \n16  LP001034    Male      No          1  Not Graduate            No   \n17  LP001036  Female      No          0      Graduate            No   \n18  LP001038    Male     Yes          0  Not Graduate            No   \n19  LP001041    Male     Yes          0      Graduate           NaN   \n\n    ApplicantIncome  CoapplicantIncome  LoanAmount  Loan_Amount_Term  \\\n0              5849                0.0         NaN             360.0   \n1              4583             1508.0       128.0             360.0   \n2              3000                0.0        66.0             360.0   \n3              2583             2358.0       120.0             360.0   \n4              6000                0.0       141.0             360.0   \n5              5417             4196.0       267.0             360.0   \n6              2333             1516.0        95.0             360.0   \n7              3036             2504.0       158.0             360.0   \n8              4006             1526.0       168.0             360.0   \n9             12841            10968.0       349.0             360.0   \n10             3200              700.0        70.0             360.0   \n11             2500             1840.0       109.0             360.0   \n12             3073             8106.0       200.0             360.0   \n13             1853             2840.0       114.0             360.0   \n14             1299             1086.0        17.0             120.0   \n15             4950                0.0       125.0             360.0   \n16             3596                0.0       100.0             240.0   \n17             3510                0.0        76.0             360.0   \n18             4887                0.0       133.0             360.0   \n19             2600             3500.0       115.0               NaN   \n\n    Credit_History Property_Area Loan_Status  \n0              1.0         Urban           Y  \n1              1.0         Rural           N  \n2              1.0         Urban           Y  \n3              1.0         Urban           Y  \n4              1.0         Urban           Y  \n5              1.0         Urban           Y  \n6              1.0         Urban           Y  \n7              0.0     Semiurban           N  \n8              1.0         Urban           Y  \n9              1.0     Semiurban           N  \n10             1.0         Urban           Y  \n11             1.0         Urban           Y  \n12             1.0         Urban           Y  \n13             1.0         Rural           N  \n14             1.0         Urban           Y  \n15             1.0         Urban           Y  \n16             NaN         Urban           Y  \n17             0.0         Urban           N  \n18             1.0         Rural           N  \n19             1.0         Urban           Y  ",
      "text/html": "<div>\n<style scoped>\n    .dataframe tbody tr th:only-of-type {\n        vertical-align: middle;\n    }\n\n    .dataframe tbody tr th {\n        vertical-align: top;\n    }\n\n    .dataframe thead th {\n        text-align: right;\n    }\n</style>\n<table border=\"1\" class=\"dataframe\">\n  <thead>\n    <tr style=\"text-align: right;\">\n      <th></th>\n      <th>Loan_ID</th>\n      <th>Gender</th>\n      <th>Married</th>\n      <th>Dependents</th>\n      <th>Education</th>\n      <th>Self_Employed</th>\n      <th>ApplicantIncome</th>\n      <th>CoapplicantIncome</th>\n      <th>LoanAmount</th>\n      <th>Loan_Amount_Term</th>\n      <th>Credit_History</th>\n      <th>Property_Area</th>\n      <th>Loan_Status</th>\n    </tr>\n  </thead>\n  <tbody>\n    <tr>\n      <th>0</th>\n      <td>LP001002</td>\n      <td>Male</td>\n      <td>No</td>\n      <td>0</td>\n      <td>Graduate</td>\n      <td>No</td>\n      <td>5849</td>\n      <td>0.0</td>\n      <td>NaN</td>\n      <td>360.0</td>\n      <td>1.0</td>\n      <td>Urban</td>\n      <td>Y</td>\n    </tr>\n    <tr>\n      <th>1</th>\n      <td>LP001003</td>\n      <td>Male</td>\n      <td>Yes</td>\n      <td>1</td>\n      <td>Graduate</td>\n      <td>No</td>\n      <td>4583</td>\n      <td>1508.0</td>\n      <td>128.0</td>\n      <td>360.0</td>\n      <td>1.0</td>\n      <td>Rural</td>\n      <td>N</td>\n    </tr>\n    <tr>\n      <th>2</th>\n      <td>LP001005</td>\n      <td>Male</td>\n      <td>Yes</td>\n      <td>0</td>\n      <td>Graduate</td>\n      <td>Yes</td>\n      <td>3000</td>\n      <td>0.0</td>\n      <td>66.0</td>\n      <td>360.0</td>\n      <td>1.0</td>\n      <td>Urban</td>\n      <td>Y</td>\n    </tr>\n    <tr>\n      <th>3</th>\n      <td>LP001006</td>\n      <td>Male</td>\n      <td>Yes</td>\n      <td>0</td>\n      <td>Not Graduate</td>\n      <td>No</td>\n      <td>2583</td>\n      <td>2358.0</td>\n      <td>120.0</td>\n      <td>360.0</td>\n      <td>1.0</td>\n      <td>Urban</td>\n      <td>Y</td>\n    </tr>\n    <tr>\n      <th>4</th>\n      <td>LP001008</td>\n      <td>Male</td>\n      <td>No</td>\n      <td>0</td>\n      <td>Graduate</td>\n      <td>No</td>\n      <td>6000</td>\n      <td>0.0</td>\n      <td>141.0</td>\n      <td>360.0</td>\n      <td>1.0</td>\n      <td>Urban</td>\n      <td>Y</td>\n    </tr>\n    <tr>\n      <th>5</th>\n      <td>LP001011</td>\n      <td>Male</td>\n      <td>Yes</td>\n      <td>2</td>\n      <td>Graduate</td>\n      <td>Yes</td>\n      <td>5417</td>\n      <td>4196.0</td>\n      <td>267.0</td>\n      <td>360.0</td>\n      <td>1.0</td>\n      <td>Urban</td>\n      <td>Y</td>\n    </tr>\n    <tr>\n      <th>6</th>\n      <td>LP001013</td>\n      <td>Male</td>\n      <td>Yes</td>\n      <td>0</td>\n      <td>Not Graduate</td>\n      <td>No</td>\n      <td>2333</td>\n      <td>1516.0</td>\n      <td>95.0</td>\n      <td>360.0</td>\n      <td>1.0</td>\n      <td>Urban</td>\n      <td>Y</td>\n    </tr>\n    <tr>\n      <th>7</th>\n      <td>LP001014</td>\n      <td>Male</td>\n      <td>Yes</td>\n      <td>3+</td>\n      <td>Graduate</td>\n      <td>No</td>\n      <td>3036</td>\n      <td>2504.0</td>\n      <td>158.0</td>\n      <td>360.0</td>\n      <td>0.0</td>\n      <td>Semiurban</td>\n      <td>N</td>\n    </tr>\n    <tr>\n      <th>8</th>\n      <td>LP001018</td>\n      <td>Male</td>\n      <td>Yes</td>\n      <td>2</td>\n      <td>Graduate</td>\n      <td>No</td>\n      <td>4006</td>\n      <td>1526.0</td>\n      <td>168.0</td>\n      <td>360.0</td>\n      <td>1.0</td>\n      <td>Urban</td>\n      <td>Y</td>\n    </tr>\n    <tr>\n      <th>9</th>\n      <td>LP001020</td>\n      <td>Male</td>\n      <td>Yes</td>\n      <td>1</td>\n      <td>Graduate</td>\n      <td>No</td>\n      <td>12841</td>\n      <td>10968.0</td>\n      <td>349.0</td>\n      <td>360.0</td>\n      <td>1.0</td>\n      <td>Semiurban</td>\n      <td>N</td>\n    </tr>\n    <tr>\n      <th>10</th>\n      <td>LP001024</td>\n      <td>Male</td>\n      <td>Yes</td>\n      <td>2</td>\n      <td>Graduate</td>\n      <td>No</td>\n      <td>3200</td>\n      <td>700.0</td>\n      <td>70.0</td>\n      <td>360.0</td>\n      <td>1.0</td>\n      <td>Urban</td>\n      <td>Y</td>\n    </tr>\n    <tr>\n      <th>11</th>\n      <td>LP001027</td>\n      <td>Male</td>\n      <td>Yes</td>\n      <td>2</td>\n      <td>Graduate</td>\n      <td>NaN</td>\n      <td>2500</td>\n      <td>1840.0</td>\n      <td>109.0</td>\n      <td>360.0</td>\n      <td>1.0</td>\n      <td>Urban</td>\n      <td>Y</td>\n    </tr>\n    <tr>\n      <th>12</th>\n      <td>LP001028</td>\n      <td>Male</td>\n      <td>Yes</td>\n      <td>2</td>\n      <td>Graduate</td>\n      <td>No</td>\n      <td>3073</td>\n      <td>8106.0</td>\n      <td>200.0</td>\n      <td>360.0</td>\n      <td>1.0</td>\n      <td>Urban</td>\n      <td>Y</td>\n    </tr>\n    <tr>\n      <th>13</th>\n      <td>LP001029</td>\n      <td>Male</td>\n      <td>No</td>\n      <td>0</td>\n      <td>Graduate</td>\n      <td>No</td>\n      <td>1853</td>\n      <td>2840.0</td>\n      <td>114.0</td>\n      <td>360.0</td>\n      <td>1.0</td>\n      <td>Rural</td>\n      <td>N</td>\n    </tr>\n    <tr>\n      <th>14</th>\n      <td>LP001030</td>\n      <td>Male</td>\n      <td>Yes</td>\n      <td>2</td>\n      <td>Graduate</td>\n      <td>No</td>\n      <td>1299</td>\n      <td>1086.0</td>\n      <td>17.0</td>\n      <td>120.0</td>\n      <td>1.0</td>\n      <td>Urban</td>\n      <td>Y</td>\n    </tr>\n    <tr>\n      <th>15</th>\n      <td>LP001032</td>\n      <td>Male</td>\n      <td>No</td>\n      <td>0</td>\n      <td>Graduate</td>\n      <td>No</td>\n      <td>4950</td>\n      <td>0.0</td>\n      <td>125.0</td>\n      <td>360.0</td>\n      <td>1.0</td>\n      <td>Urban</td>\n      <td>Y</td>\n    </tr>\n    <tr>\n      <th>16</th>\n      <td>LP001034</td>\n      <td>Male</td>\n      <td>No</td>\n      <td>1</td>\n      <td>Not Graduate</td>\n      <td>No</td>\n      <td>3596</td>\n      <td>0.0</td>\n      <td>100.0</td>\n      <td>240.0</td>\n      <td>NaN</td>\n      <td>Urban</td>\n      <td>Y</td>\n    </tr>\n    <tr>\n      <th>17</th>\n      <td>LP001036</td>\n      <td>Female</td>\n      <td>No</td>\n      <td>0</td>\n      <td>Graduate</td>\n      <td>No</td>\n      <td>3510</td>\n      <td>0.0</td>\n      <td>76.0</td>\n      <td>360.0</td>\n      <td>0.0</td>\n      <td>Urban</td>\n      <td>N</td>\n    </tr>\n    <tr>\n      <th>18</th>\n      <td>LP001038</td>\n      <td>Male</td>\n      <td>Yes</td>\n      <td>0</td>\n      <td>Not Graduate</td>\n      <td>No</td>\n      <td>4887</td>\n      <td>0.0</td>\n      <td>133.0</td>\n      <td>360.0</td>\n      <td>1.0</td>\n      <td>Rural</td>\n      <td>N</td>\n    </tr>\n    <tr>\n      <th>19</th>\n      <td>LP001041</td>\n      <td>Male</td>\n      <td>Yes</td>\n      <td>0</td>\n      <td>Graduate</td>\n      <td>NaN</td>\n      <td>2600</td>\n      <td>3500.0</td>\n      <td>115.0</td>\n      <td>NaN</td>\n      <td>1.0</td>\n      <td>Urban</td>\n      <td>Y</td>\n    </tr>\n  </tbody>\n</table>\n</div>"
     },
     "execution_count": 3,
     "metadata": {},
     "output_type": "execute_result"
    }
   ],
   "source": [
    "loan_df.head(20)  # returns first 20 samples of the loan data"
   ]
  },
  {
   "cell_type": "code",
   "execution_count": 4,
   "id": "e35ce754-61e1-4372-903a-7f6d1f55d331",
   "metadata": {},
   "outputs": [
    {
     "data": {
      "text/plain": "       ApplicantIncome  CoapplicantIncome  LoanAmount  Loan_Amount_Term  \\\ncount       614.000000         614.000000  592.000000         600.00000   \nmean       5403.459283        1621.245798  146.412162         342.00000   \nstd        6109.041673        2926.248369   85.587325          65.12041   \nmin         150.000000           0.000000    9.000000          12.00000   \n25%        2877.500000           0.000000  100.000000         360.00000   \n50%        3812.500000        1188.500000  128.000000         360.00000   \n75%        5795.000000        2297.250000  168.000000         360.00000   \nmax       81000.000000       41667.000000  700.000000         480.00000   \n\n       Credit_History  \ncount      564.000000  \nmean         0.842199  \nstd          0.364878  \nmin          0.000000  \n25%          1.000000  \n50%          1.000000  \n75%          1.000000  \nmax          1.000000  ",
      "text/html": "<div>\n<style scoped>\n    .dataframe tbody tr th:only-of-type {\n        vertical-align: middle;\n    }\n\n    .dataframe tbody tr th {\n        vertical-align: top;\n    }\n\n    .dataframe thead th {\n        text-align: right;\n    }\n</style>\n<table border=\"1\" class=\"dataframe\">\n  <thead>\n    <tr style=\"text-align: right;\">\n      <th></th>\n      <th>ApplicantIncome</th>\n      <th>CoapplicantIncome</th>\n      <th>LoanAmount</th>\n      <th>Loan_Amount_Term</th>\n      <th>Credit_History</th>\n    </tr>\n  </thead>\n  <tbody>\n    <tr>\n      <th>count</th>\n      <td>614.000000</td>\n      <td>614.000000</td>\n      <td>592.000000</td>\n      <td>600.00000</td>\n      <td>564.000000</td>\n    </tr>\n    <tr>\n      <th>mean</th>\n      <td>5403.459283</td>\n      <td>1621.245798</td>\n      <td>146.412162</td>\n      <td>342.00000</td>\n      <td>0.842199</td>\n    </tr>\n    <tr>\n      <th>std</th>\n      <td>6109.041673</td>\n      <td>2926.248369</td>\n      <td>85.587325</td>\n      <td>65.12041</td>\n      <td>0.364878</td>\n    </tr>\n    <tr>\n      <th>min</th>\n      <td>150.000000</td>\n      <td>0.000000</td>\n      <td>9.000000</td>\n      <td>12.00000</td>\n      <td>0.000000</td>\n    </tr>\n    <tr>\n      <th>25%</th>\n      <td>2877.500000</td>\n      <td>0.000000</td>\n      <td>100.000000</td>\n      <td>360.00000</td>\n      <td>1.000000</td>\n    </tr>\n    <tr>\n      <th>50%</th>\n      <td>3812.500000</td>\n      <td>1188.500000</td>\n      <td>128.000000</td>\n      <td>360.00000</td>\n      <td>1.000000</td>\n    </tr>\n    <tr>\n      <th>75%</th>\n      <td>5795.000000</td>\n      <td>2297.250000</td>\n      <td>168.000000</td>\n      <td>360.00000</td>\n      <td>1.000000</td>\n    </tr>\n    <tr>\n      <th>max</th>\n      <td>81000.000000</td>\n      <td>41667.000000</td>\n      <td>700.000000</td>\n      <td>480.00000</td>\n      <td>1.000000</td>\n    </tr>\n  </tbody>\n</table>\n</div>"
     },
     "execution_count": 4,
     "metadata": {},
     "output_type": "execute_result"
    }
   ],
   "source": [
    "loan_df.describe()  # describes statistical information on integer columns of the data."
   ]
  },
  {
   "cell_type": "code",
   "execution_count": 5,
   "id": "3243c5f3-e474-466f-ada7-06c7dfa335d8",
   "metadata": {},
   "outputs": [
    {
     "name": "stdout",
     "output_type": "stream",
     "text": [
      "<class 'pandas.core.frame.DataFrame'>\n",
      "RangeIndex: 614 entries, 0 to 613\n",
      "Data columns (total 13 columns):\n",
      " #   Column             Non-Null Count  Dtype  \n",
      "---  ------             --------------  -----  \n",
      " 0   Loan_ID            614 non-null    object \n",
      " 1   Gender             601 non-null    object \n",
      " 2   Married            611 non-null    object \n",
      " 3   Dependents         599 non-null    object \n",
      " 4   Education          614 non-null    object \n",
      " 5   Self_Employed      582 non-null    object \n",
      " 6   ApplicantIncome    614 non-null    int64  \n",
      " 7   CoapplicantIncome  614 non-null    float64\n",
      " 8   LoanAmount         592 non-null    float64\n",
      " 9   Loan_Amount_Term   600 non-null    float64\n",
      " 10  Credit_History     564 non-null    float64\n",
      " 11  Property_Area      614 non-null    object \n",
      " 12  Loan_Status        614 non-null    object \n",
      "dtypes: float64(4), int64(1), object(8)\n",
      "memory usage: 62.5+ KB\n"
     ]
    }
   ],
   "source": [
    "loan_df.info()  # shows information on the loan data like columns with null data and datatype of each column."
   ]
  },
  {
   "cell_type": "code",
   "execution_count": 6,
   "id": "63d7a80b-81a6-430f-b316-1e461d4aafa8",
   "metadata": {},
   "outputs": [
    {
     "data": {
      "text/plain": "Loan_ID               0\nGender               13\nMarried               3\nDependents           15\nEducation             0\nSelf_Employed        32\nApplicantIncome       0\nCoapplicantIncome     0\nLoanAmount           22\nLoan_Amount_Term     14\nCredit_History       50\nProperty_Area         0\nLoan_Status           0\ndtype: int64"
     },
     "execution_count": 6,
     "metadata": {},
     "output_type": "execute_result"
    }
   ],
   "source": [
    "loan_df.isnull().sum()  # counts number null values present in each columns."
   ]
  },
  {
   "cell_type": "code",
   "execution_count": 7,
   "id": "f04fc599-39c4-44db-8c59-20317f0450ac",
   "metadata": {},
   "outputs": [
    {
     "name": "stdout",
     "output_type": "stream",
     "text": [
      "['Loan_ID', 'Gender', 'Married', 'Dependents', 'Education', 'Self_Employed', 'ApplicantIncome', 'CoapplicantIncome', 'LoanAmount', 'Loan_Amount_Term', 'Credit_History', 'Property_Area', 'Loan_Status']\n",
      "['Gender', 'Married', 'Dependents', 'Self_Employed', 'LoanAmount', 'Loan_Amount_Term', 'Credit_History']\n"
     ]
    }
   ],
   "source": [
    "# creating a list of columns with null values\n",
    "col_null = []\n",
    "column = list(loan_df.columns)\n",
    "print(column)\n",
    "for col in column:\n",
    "    if loan_df[col].isna().sum() > 0:\n",
    "        col_null.append(col)\n",
    "print(col_null)"
   ]
  },
  {
   "cell_type": "code",
   "execution_count": 8,
   "id": "0d33ba18-0691-4560-b182-1ba500156f44",
   "metadata": {
    "tags": []
   },
   "outputs": [
    {
     "name": "stdout",
     "output_type": "stream",
     "text": [
      "[0    Male\n",
      "dtype: object, 0    Yes\n",
      "dtype: object, 0    0\n",
      "dtype: object, 0    No\n",
      "dtype: object, 0    120.0\n",
      "dtype: float64, 0    360.0\n",
      "dtype: float64, 0    1.0\n",
      "dtype: float64]\n"
     ]
    }
   ],
   "source": [
    "# creating a list of the modes for each of the columns with missing values\n",
    "mode = []\n",
    "for miss in col_null:\n",
    "    mode.append(loan_df[miss].mode())\n",
    "print(mode)"
   ]
  },
  {
   "cell_type": "code",
   "execution_count": 9,
   "id": "926a7c06-3c59-48bb-a683-b9ca54cc68b9",
   "metadata": {},
   "outputs": [
    {
     "name": "stdout",
     "output_type": "stream",
     "text": [
      "['Male', 'Yes', '0', 'No', 120.0, 360.0, 1.0]\n"
     ]
    }
   ],
   "source": [
    "# picks the modes in each values inside the list.\n",
    "real_mode = []\n",
    "for modes in mode:\n",
    "    real_mode.append(modes[0])\n",
    "print(real_mode)"
   ]
  },
  {
   "cell_type": "code",
   "execution_count": 10,
   "id": "f679dbd8-7129-404c-bb6e-6981e682f7ba",
   "metadata": {},
   "outputs": [],
   "source": [
    "# creates a dictionary where the keys are the missing columns and the values show the mode of each columns\n",
    "val = {}\n",
    "for miss in col_null:\n",
    "    for m in real_mode:\n",
    "        val[miss] = m\n",
    "        real_mode.remove(m)\n",
    "        break"
   ]
  },
  {
   "cell_type": "code",
   "execution_count": 11,
   "id": "f0fe9071-7f86-4cae-9023-e154482bc0e8",
   "metadata": {},
   "outputs": [
    {
     "name": "stdout",
     "output_type": "stream",
     "text": [
      "{'Gender': 'Male', 'Married': 'Yes', 'Dependents': '0', 'Self_Employed': 'No', 'LoanAmount': 120.0, 'Loan_Amount_Term': 360.0, 'Credit_History': 1.0}\n"
     ]
    }
   ],
   "source": [
    "print(val)"
   ]
  },
  {
   "cell_type": "code",
   "execution_count": 12,
   "id": "4c132805-0f6d-47ed-ac7e-e00526e43537",
   "metadata": {},
   "outputs": [],
   "source": [
    "# fills the missing values in each column\n",
    "for i,k in val.items():\n",
    "    loan_df[i].fillna(k, inplace= True)"
   ]
  },
  {
   "cell_type": "code",
   "execution_count": 13,
   "id": "76f6c2dc-2e29-42cb-b771-af03ffbe284f",
   "metadata": {},
   "outputs": [
    {
     "name": "stdout",
     "output_type": "stream",
     "text": [
      "<class 'pandas.core.frame.DataFrame'>\n",
      "RangeIndex: 614 entries, 0 to 613\n",
      "Data columns (total 13 columns):\n",
      " #   Column             Non-Null Count  Dtype  \n",
      "---  ------             --------------  -----  \n",
      " 0   Loan_ID            614 non-null    object \n",
      " 1   Gender             614 non-null    object \n",
      " 2   Married            614 non-null    object \n",
      " 3   Dependents         614 non-null    object \n",
      " 4   Education          614 non-null    object \n",
      " 5   Self_Employed      614 non-null    object \n",
      " 6   ApplicantIncome    614 non-null    int64  \n",
      " 7   CoapplicantIncome  614 non-null    float64\n",
      " 8   LoanAmount         614 non-null    float64\n",
      " 9   Loan_Amount_Term   614 non-null    float64\n",
      " 10  Credit_History     614 non-null    float64\n",
      " 11  Property_Area      614 non-null    object \n",
      " 12  Loan_Status        614 non-null    object \n",
      "dtypes: float64(4), int64(1), object(8)\n",
      "memory usage: 62.5+ KB\n"
     ]
    }
   ],
   "source": [
    "loan_df.info()  # checking number of missing values present."
   ]
  },
  {
   "cell_type": "code",
   "execution_count": 14,
   "id": "d2106556-d1a6-4bd7-872d-cbea7e68251f",
   "metadata": {},
   "outputs": [
    {
     "data": {
      "text/plain": "Loan_ID              0\nGender               0\nMarried              0\nDependents           0\nEducation            0\nSelf_Employed        0\nApplicantIncome      0\nCoapplicantIncome    0\nLoanAmount           0\nLoan_Amount_Term     0\nCredit_History       0\nProperty_Area        0\nLoan_Status          0\ndtype: int64"
     },
     "execution_count": 14,
     "metadata": {},
     "output_type": "execute_result"
    }
   ],
   "source": [
    "loan_df.isnull().sum()"
   ]
  },
  {
   "cell_type": "code",
   "execution_count": 15,
   "id": "83289912-9fb4-4502-b445-ac05688b194d",
   "metadata": {},
   "outputs": [],
   "source": [
    "#  identifying columns with object datatype\n",
    "s = (loan_df.dtypes == 'object')"
   ]
  },
  {
   "cell_type": "code",
   "execution_count": 16,
   "id": "1b1ea240-6554-408b-832f-719cd9a254fd",
   "metadata": {},
   "outputs": [],
   "source": [
    "# creating list of objects with object datatypes.\n",
    "obj_col = list(s[s].index)\n",
    "obj_col.remove(\"Loan_ID\")  # removing the id column"
   ]
  },
  {
   "cell_type": "code",
   "execution_count": 17,
   "id": "c772b141-a5d3-4606-987a-bee8d7ff175c",
   "metadata": {},
   "outputs": [
    {
     "data": {
      "text/plain": "['Gender',\n 'Married',\n 'Dependents',\n 'Education',\n 'Self_Employed',\n 'Property_Area',\n 'Loan_Status']"
     },
     "execution_count": 17,
     "metadata": {},
     "output_type": "execute_result"
    }
   ],
   "source": [
    "obj_col"
   ]
  },
  {
   "cell_type": "code",
   "execution_count": 18,
   "id": "cca421de-7e8b-4ffd-90c1-7e69d5c6ec70",
   "metadata": {},
   "outputs": [],
   "source": [
    "# importing the ordinal encoder class from the sklearn preprocessing module\n",
    "from sklearn.preprocessing import OrdinalEncoder\n",
    "ordinate = OrdinalEncoder()  # the ordinate object takes the OrdinalEncoder class as it's values."
   ]
  },
  {
   "cell_type": "code",
   "execution_count": 19,
   "id": "20af83ed-3b29-4110-b239-34c650019370",
   "metadata": {},
   "outputs": [],
   "source": [
    "loan_data = loan_df.copy()  # making a copy of the loan_df to be stored with loan_data"
   ]
  },
  {
   "cell_type": "code",
   "execution_count": 20,
   "id": "d6993289-0409-4147-aac0-e13f62603775",
   "metadata": {},
   "outputs": [],
   "source": [
    "# transforming the columns with object datatypes.\n",
    "loan_data[obj_col] = ordinate.fit_transform(loan_data[obj_col])"
   ]
  },
  {
   "cell_type": "code",
   "execution_count": 21,
   "id": "b16a67ab-c196-4271-9b47-7eafce648757",
   "metadata": {},
   "outputs": [
    {
     "data": {
      "text/plain": "    Loan_ID  Gender  Married  Dependents  Education  Self_Employed  \\\n0  LP001002     1.0      0.0         0.0        0.0            0.0   \n1  LP001003     1.0      1.0         1.0        0.0            0.0   \n2  LP001005     1.0      1.0         0.0        0.0            1.0   \n3  LP001006     1.0      1.0         0.0        1.0            0.0   \n4  LP001008     1.0      0.0         0.0        0.0            0.0   \n\n   ApplicantIncome  CoapplicantIncome  LoanAmount  Loan_Amount_Term  \\\n0             5849                0.0       120.0             360.0   \n1             4583             1508.0       128.0             360.0   \n2             3000                0.0        66.0             360.0   \n3             2583             2358.0       120.0             360.0   \n4             6000                0.0       141.0             360.0   \n\n   Credit_History  Property_Area  Loan_Status  \n0             1.0            2.0          1.0  \n1             1.0            0.0          0.0  \n2             1.0            2.0          1.0  \n3             1.0            2.0          1.0  \n4             1.0            2.0          1.0  ",
      "text/html": "<div>\n<style scoped>\n    .dataframe tbody tr th:only-of-type {\n        vertical-align: middle;\n    }\n\n    .dataframe tbody tr th {\n        vertical-align: top;\n    }\n\n    .dataframe thead th {\n        text-align: right;\n    }\n</style>\n<table border=\"1\" class=\"dataframe\">\n  <thead>\n    <tr style=\"text-align: right;\">\n      <th></th>\n      <th>Loan_ID</th>\n      <th>Gender</th>\n      <th>Married</th>\n      <th>Dependents</th>\n      <th>Education</th>\n      <th>Self_Employed</th>\n      <th>ApplicantIncome</th>\n      <th>CoapplicantIncome</th>\n      <th>LoanAmount</th>\n      <th>Loan_Amount_Term</th>\n      <th>Credit_History</th>\n      <th>Property_Area</th>\n      <th>Loan_Status</th>\n    </tr>\n  </thead>\n  <tbody>\n    <tr>\n      <th>0</th>\n      <td>LP001002</td>\n      <td>1.0</td>\n      <td>0.0</td>\n      <td>0.0</td>\n      <td>0.0</td>\n      <td>0.0</td>\n      <td>5849</td>\n      <td>0.0</td>\n      <td>120.0</td>\n      <td>360.0</td>\n      <td>1.0</td>\n      <td>2.0</td>\n      <td>1.0</td>\n    </tr>\n    <tr>\n      <th>1</th>\n      <td>LP001003</td>\n      <td>1.0</td>\n      <td>1.0</td>\n      <td>1.0</td>\n      <td>0.0</td>\n      <td>0.0</td>\n      <td>4583</td>\n      <td>1508.0</td>\n      <td>128.0</td>\n      <td>360.0</td>\n      <td>1.0</td>\n      <td>0.0</td>\n      <td>0.0</td>\n    </tr>\n    <tr>\n      <th>2</th>\n      <td>LP001005</td>\n      <td>1.0</td>\n      <td>1.0</td>\n      <td>0.0</td>\n      <td>0.0</td>\n      <td>1.0</td>\n      <td>3000</td>\n      <td>0.0</td>\n      <td>66.0</td>\n      <td>360.0</td>\n      <td>1.0</td>\n      <td>2.0</td>\n      <td>1.0</td>\n    </tr>\n    <tr>\n      <th>3</th>\n      <td>LP001006</td>\n      <td>1.0</td>\n      <td>1.0</td>\n      <td>0.0</td>\n      <td>1.0</td>\n      <td>0.0</td>\n      <td>2583</td>\n      <td>2358.0</td>\n      <td>120.0</td>\n      <td>360.0</td>\n      <td>1.0</td>\n      <td>2.0</td>\n      <td>1.0</td>\n    </tr>\n    <tr>\n      <th>4</th>\n      <td>LP001008</td>\n      <td>1.0</td>\n      <td>0.0</td>\n      <td>0.0</td>\n      <td>0.0</td>\n      <td>0.0</td>\n      <td>6000</td>\n      <td>0.0</td>\n      <td>141.0</td>\n      <td>360.0</td>\n      <td>1.0</td>\n      <td>2.0</td>\n      <td>1.0</td>\n    </tr>\n  </tbody>\n</table>\n</div>"
     },
     "execution_count": 21,
     "metadata": {},
     "output_type": "execute_result"
    }
   ],
   "source": [
    "loan_data.head()  # outputs top 5 rows of the dataset."
   ]
  },
  {
   "cell_type": "code",
   "execution_count": 22,
   "id": "540da511-5fa9-47bd-9bce-10aa44ccf974",
   "metadata": {},
   "outputs": [],
   "source": [
    "X = loan_data.drop([\"Loan_Status\", \"Loan_ID\"], axis= 1)  # variable X after dropping off the Loan_Status and Loan_ID\n",
    "y = loan_data.Loan_Status  # variable y takes the Loan Status column."
   ]
  },
  {
   "cell_type": "code",
   "execution_count": 23,
   "id": "ed62e87e-7c0f-446b-9452-e4003d94928c",
   "metadata": {},
   "outputs": [],
   "source": [
    "# importing the Standard Scaler and Robust Scaler classes from the sklearn preprocessing module\n",
    "from sklearn.preprocessing import StandardScaler, RobustScaler\n",
    "scale = StandardScaler()  # creating a variable named scale saving the StandardScaler class\n",
    "rob = RobustScaler()  # creating a variable named rob saving the RobustScaler class."
   ]
  },
  {
   "cell_type": "code",
   "execution_count": 24,
   "id": "21da2a25-9d3e-480b-b64b-160703d8bc9b",
   "metadata": {},
   "outputs": [],
   "source": [
    "# transforming the variable X using the scale and robust class\n",
    "scaled_X = scale.fit_transform(X)\n",
    "rob_X = rob.fit_transform(X, y)"
   ]
  },
  {
   "cell_type": "code",
   "execution_count": 25,
   "id": "fac0bfbe-8489-43a0-83e3-bc3d3517e644",
   "metadata": {},
   "outputs": [],
   "source": [
    "# importing train_test_split and the necessary algorithms used in building the voting classifier.\n",
    "from sklearn.model_selection import train_test_split\n",
    "from sklearn.svm import SVC\n",
    "from sklearn.linear_model import LogisticRegression\n",
    "from sklearn.ensemble import RandomForestClassifier, VotingClassifier\n",
    "train_X, test_X, train_y, test_y = train_test_split(rob_X, y, random_state=1234, test_size= 0.2)"
   ]
  },
  {
   "cell_type": "code",
   "execution_count": 26,
   "outputs": [],
   "source": [
    "# creating variables to store algorithm classes\n",
    "lr = LogisticRegression(random_state= 1234, n_jobs= 1)\n",
    "svc = SVC(random_state= 1234, C =1, kernel= 'poly', degree= 0, max_iter= 1)\n",
    "rf = RandomForestClassifier(n_estimators= 100, n_jobs= 1, max_leaf_nodes= 6)"
   ],
   "metadata": {
    "collapsed": false,
    "pycharm": {
     "name": "#%%\n"
    }
   }
  },
  {
   "cell_type": "code",
   "execution_count": 27,
   "id": "76d88f62-e83b-45e5-9daa-55312d4caf8f",
   "metadata": {},
   "outputs": [],
   "source": [
    "voting_clf = VotingClassifier(\n",
    "    estimators= [('lr', lr), ('rf', rf), ('svc', svc)],\n",
    "    voting = \"hard\",\n",
    ")"
   ]
  },
  {
   "cell_type": "code",
   "execution_count": 28,
   "id": "98ace6e8-4751-470f-a207-4488cde12bd6",
   "metadata": {},
   "outputs": [
    {
     "name": "stderr",
     "output_type": "stream",
     "text": [
      "C:\\Users\\Testys\\anaconda3\\lib\\site-packages\\sklearn\\linear_model\\_logistic.py:814: ConvergenceWarning: lbfgs failed to converge (status=1):\n",
      "STOP: TOTAL NO. of ITERATIONS REACHED LIMIT.\n",
      "\n",
      "Increase the number of iterations (max_iter) or scale the data as shown in:\n",
      "    https://scikit-learn.org/stable/modules/preprocessing.html\n",
      "Please also refer to the documentation for alternative solver options:\n",
      "    https://scikit-learn.org/stable/modules/linear_model.html#logistic-regression\n",
      "  n_iter_i = _check_optimize_result(\n",
      "C:\\Users\\Testys\\anaconda3\\lib\\site-packages\\sklearn\\svm\\_base.py:284: ConvergenceWarning: Solver terminated early (max_iter=1).  Consider pre-processing your data with StandardScaler or MinMaxScaler.\n",
      "  warnings.warn(\n"
     ]
    },
    {
     "data": {
      "text/plain": "VotingClassifier(estimators=[('lr',\n                              LogisticRegression(n_jobs=1, random_state=1234)),\n                             ('rf',\n                              RandomForestClassifier(max_leaf_nodes=6,\n                                                     n_jobs=1)),\n                             ('svc',\n                              SVC(C=1, degree=0, kernel='poly', max_iter=1,\n                                  random_state=1234))])"
     },
     "execution_count": 28,
     "metadata": {},
     "output_type": "execute_result"
    }
   ],
   "source": [
    "voting_clf.fit(train_X, train_y)"
   ]
  },
  {
   "cell_type": "code",
   "execution_count": 29,
   "id": "1b5f55df-9169-4ed9-b390-c78bcb8060b1",
   "metadata": {},
   "outputs": [],
   "source": [
    "from sklearn.metrics import accuracy_score, f1_score"
   ]
  },
  {
   "cell_type": "code",
   "execution_count": 30,
   "id": "9650eb16-5730-4c27-8fa4-93d817c27c34",
   "metadata": {},
   "outputs": [
    {
     "name": "stderr",
     "output_type": "stream",
     "text": [
      "C:\\Users\\Testys\\anaconda3\\lib\\site-packages\\sklearn\\linear_model\\_logistic.py:814: ConvergenceWarning: lbfgs failed to converge (status=1):\n",
      "STOP: TOTAL NO. of ITERATIONS REACHED LIMIT.\n",
      "\n",
      "Increase the number of iterations (max_iter) or scale the data as shown in:\n",
      "    https://scikit-learn.org/stable/modules/preprocessing.html\n",
      "Please also refer to the documentation for alternative solver options:\n",
      "    https://scikit-learn.org/stable/modules/linear_model.html#logistic-regression\n",
      "  n_iter_i = _check_optimize_result(\n"
     ]
    },
    {
     "name": "stdout",
     "output_type": "stream",
     "text": [
      "LogisticRegression 0.8617886178861789 0.9081081081081082\n",
      "RandomForestClassifier 0.8617886178861789 0.9081081081081082\n",
      "SVC 0.6829268292682927 0.8115942028985507\n"
     ]
    },
    {
     "name": "stderr",
     "output_type": "stream",
     "text": [
      "C:\\Users\\Testys\\anaconda3\\lib\\site-packages\\sklearn\\svm\\_base.py:284: ConvergenceWarning: Solver terminated early (max_iter=1).  Consider pre-processing your data with StandardScaler or MinMaxScaler.\n",
      "  warnings.warn(\n",
      "C:\\Users\\Testys\\anaconda3\\lib\\site-packages\\sklearn\\linear_model\\_logistic.py:814: ConvergenceWarning: lbfgs failed to converge (status=1):\n",
      "STOP: TOTAL NO. of ITERATIONS REACHED LIMIT.\n",
      "\n",
      "Increase the number of iterations (max_iter) or scale the data as shown in:\n",
      "    https://scikit-learn.org/stable/modules/preprocessing.html\n",
      "Please also refer to the documentation for alternative solver options:\n",
      "    https://scikit-learn.org/stable/modules/linear_model.html#logistic-regression\n",
      "  n_iter_i = _check_optimize_result(\n"
     ]
    },
    {
     "name": "stdout",
     "output_type": "stream",
     "text": [
      "VotingClassifier 0.8617886178861789 0.9081081081081082\n"
     ]
    },
    {
     "name": "stderr",
     "output_type": "stream",
     "text": [
      "C:\\Users\\Testys\\anaconda3\\lib\\site-packages\\sklearn\\svm\\_base.py:284: ConvergenceWarning: Solver terminated early (max_iter=1).  Consider pre-processing your data with StandardScaler or MinMaxScaler.\n",
      "  warnings.warn(\n"
     ]
    }
   ],
   "source": [
    "for clf in (lr, rf, svc, voting_clf):\n",
    "    clf.fit(train_X, train_y)\n",
    "    y_pred = clf.predict(test_X)\n",
    "    print(clf.__class__.__name__, accuracy_score(y_pred, test_y), f1_score(y_pred, test_y))"
   ]
  },
  {
   "cell_type": "code",
   "execution_count": 31,
   "id": "64e96d91-34b3-4f98-ab69-934510294862",
   "metadata": {},
   "outputs": [],
   "source": [
    "new_file = {}\n",
    "details = ['Male', 'No', 1, 'Not Graduate', 'No', int(2000), int(0), int(55), int(180), int(0), 'Rural']\n",
    "column.remove('Loan_ID')\n",
    "column.remove('Loan_Status')\n",
    "for col in column :\n",
    "    for det in details:\n",
    "        new_file[col] = det\n",
    "        details.remove(det)\n",
    "        break"
   ]
  },
  {
   "cell_type": "code",
   "execution_count": 32,
   "id": "d37f8c66-55c3-413a-87c2-32f849b6b1bd",
   "metadata": {},
   "outputs": [],
   "source": [
    "import numpy as np\n",
    "detail = ['Male', 'No', 1, 'Not Graduate', 'No', int(2000), int(0), int(55), int(180), int(0), 'Rural']\n",
    "np_det = np.array([detail])"
   ]
  },
  {
   "cell_type": "code",
   "execution_count": 33,
   "id": "2ccda472-e591-4e1c-960e-41567b95731e",
   "metadata": {},
   "outputs": [
    {
     "name": "stdout",
     "output_type": "stream",
     "text": [
      "(1, 11)\n"
     ]
    }
   ],
   "source": [
    "print(np_det.shape)\n",
    "new_data = pd.DataFrame(new_file, columns= column, index = range(1))\n"
   ]
  },
  {
   "cell_type": "code",
   "execution_count": 34,
   "id": "e71535f1-d144-4f99-a6c8-973f2fb49a72",
   "metadata": {},
   "outputs": [],
   "source": [
    "new_fil = np.array(new_file)"
   ]
  },
  {
   "cell_type": "code",
   "execution_count": 34,
   "id": "ebce14b2-bef6-4ab0-9764-9f5d1845b66c",
   "metadata": {},
   "outputs": [],
   "source": []
  },
  {
   "cell_type": "code",
   "execution_count": 35,
   "id": "c20f7197-9856-4fd6-b570-d6d01c957ee5",
   "metadata": {},
   "outputs": [
    {
     "data": {
      "text/plain": "{'Gender': 'Male',\n 'Married': 'No',\n 'Dependents': 1,\n 'Education': 'Not Graduate',\n 'Self_Employed': 'No',\n 'ApplicantIncome': 2000,\n 'CoapplicantIncome': 0,\n 'LoanAmount': 55,\n 'Loan_Amount_Term': 180,\n 'Credit_History': 0,\n 'Property_Area': 'Rural'}"
     },
     "execution_count": 35,
     "metadata": {},
     "output_type": "execute_result"
    }
   ],
   "source": [
    "new_file"
   ]
  },
  {
   "cell_type": "code",
   "execution_count": 36,
   "id": "38678b7d-8481-43bc-89e5-31ddf6188054",
   "metadata": {},
   "outputs": [
    {
     "name": "stdout",
     "output_type": "stream",
     "text": [
      "<class 'pandas.core.frame.DataFrame'>\n",
      "RangeIndex: 1 entries, 0 to 0\n",
      "Data columns (total 11 columns):\n",
      " #   Column             Non-Null Count  Dtype \n",
      "---  ------             --------------  ----- \n",
      " 0   Gender             1 non-null      object\n",
      " 1   Married            1 non-null      object\n",
      " 2   Dependents         1 non-null      int64 \n",
      " 3   Education          1 non-null      object\n",
      " 4   Self_Employed      1 non-null      object\n",
      " 5   ApplicantIncome    1 non-null      int64 \n",
      " 6   CoapplicantIncome  1 non-null      int64 \n",
      " 7   LoanAmount         1 non-null      int64 \n",
      " 8   Loan_Amount_Term   1 non-null      int64 \n",
      " 9   Credit_History     1 non-null      int64 \n",
      " 10  Property_Area      1 non-null      object\n",
      "dtypes: int64(6), object(5)\n",
      "memory usage: 216.0+ bytes\n"
     ]
    }
   ],
   "source": [
    "new_data.info()"
   ]
  },
  {
   "cell_type": "code",
   "execution_count": 37,
   "id": "a9886bd5-ff3f-4411-823b-1539f1579adb",
   "metadata": {},
   "outputs": [
    {
     "data": {
      "text/plain": "  Gender Married  Dependents     Education Self_Employed  ApplicantIncome  \\\n0   Male      No           1  Not Graduate            No             2000   \n\n   CoapplicantIncome  LoanAmount  Loan_Amount_Term  Credit_History  \\\n0                  0          55               180               0   \n\n  Property_Area  \n0         Rural  ",
      "text/html": "<div>\n<style scoped>\n    .dataframe tbody tr th:only-of-type {\n        vertical-align: middle;\n    }\n\n    .dataframe tbody tr th {\n        vertical-align: top;\n    }\n\n    .dataframe thead th {\n        text-align: right;\n    }\n</style>\n<table border=\"1\" class=\"dataframe\">\n  <thead>\n    <tr style=\"text-align: right;\">\n      <th></th>\n      <th>Gender</th>\n      <th>Married</th>\n      <th>Dependents</th>\n      <th>Education</th>\n      <th>Self_Employed</th>\n      <th>ApplicantIncome</th>\n      <th>CoapplicantIncome</th>\n      <th>LoanAmount</th>\n      <th>Loan_Amount_Term</th>\n      <th>Credit_History</th>\n      <th>Property_Area</th>\n    </tr>\n  </thead>\n  <tbody>\n    <tr>\n      <th>0</th>\n      <td>Male</td>\n      <td>No</td>\n      <td>1</td>\n      <td>Not Graduate</td>\n      <td>No</td>\n      <td>2000</td>\n      <td>0</td>\n      <td>55</td>\n      <td>180</td>\n      <td>0</td>\n      <td>Rural</td>\n    </tr>\n  </tbody>\n</table>\n</div>"
     },
     "execution_count": 37,
     "metadata": {},
     "output_type": "execute_result"
    }
   ],
   "source": [
    "new_data"
   ]
  },
  {
   "cell_type": "code",
   "execution_count": 38,
   "id": "fb84544a-6162-42bc-b48e-33e30310530f",
   "metadata": {},
   "outputs": [],
   "source": [
    "y = (new_data.dtypes == 'object')\n",
    "obj = list(y[y].index)\n",
    "new_data[obj] = ordinate.fit_transform(new_data[obj])"
   ]
  },
  {
   "cell_type": "code",
   "execution_count": 39,
   "id": "906dfd28-8f76-468a-96b7-540c10145b8e",
   "metadata": {},
   "outputs": [
    {
     "data": {
      "text/plain": "   Gender  Married  Dependents  Education  Self_Employed  ApplicantIncome  \\\n0     0.0      0.0           1        0.0            0.0             2000   \n\n   CoapplicantIncome  LoanAmount  Loan_Amount_Term  Credit_History  \\\n0                  0          55               180               0   \n\n   Property_Area  \n0            0.0  ",
      "text/html": "<div>\n<style scoped>\n    .dataframe tbody tr th:only-of-type {\n        vertical-align: middle;\n    }\n\n    .dataframe tbody tr th {\n        vertical-align: top;\n    }\n\n    .dataframe thead th {\n        text-align: right;\n    }\n</style>\n<table border=\"1\" class=\"dataframe\">\n  <thead>\n    <tr style=\"text-align: right;\">\n      <th></th>\n      <th>Gender</th>\n      <th>Married</th>\n      <th>Dependents</th>\n      <th>Education</th>\n      <th>Self_Employed</th>\n      <th>ApplicantIncome</th>\n      <th>CoapplicantIncome</th>\n      <th>LoanAmount</th>\n      <th>Loan_Amount_Term</th>\n      <th>Credit_History</th>\n      <th>Property_Area</th>\n    </tr>\n  </thead>\n  <tbody>\n    <tr>\n      <th>0</th>\n      <td>0.0</td>\n      <td>0.0</td>\n      <td>1</td>\n      <td>0.0</td>\n      <td>0.0</td>\n      <td>2000</td>\n      <td>0</td>\n      <td>55</td>\n      <td>180</td>\n      <td>0</td>\n      <td>0.0</td>\n    </tr>\n  </tbody>\n</table>\n</div>"
     },
     "execution_count": 39,
     "metadata": {},
     "output_type": "execute_result"
    }
   ],
   "source": [
    "new_data"
   ]
  },
  {
   "cell_type": "code",
   "execution_count": 40,
   "id": "255c82c4-e26f-4611-8dad-7a40a4381ae5",
   "metadata": {},
   "outputs": [
    {
     "name": "stderr",
     "output_type": "stream",
     "text": [
      "C:\\Users\\Testys\\anaconda3\\lib\\site-packages\\sklearn\\base.py:438: UserWarning: X has feature names, but LogisticRegression was fitted without feature names\n",
      "  warnings.warn(\n",
      "C:\\Users\\Testys\\anaconda3\\lib\\site-packages\\sklearn\\base.py:438: UserWarning: X has feature names, but RandomForestClassifier was fitted without feature names\n",
      "  warnings.warn(\n",
      "C:\\Users\\Testys\\anaconda3\\lib\\site-packages\\sklearn\\base.py:438: UserWarning: X has feature names, but SVC was fitted without feature names\n",
      "  warnings.warn(\n"
     ]
    }
   ],
   "source": [
    "new_pred = voting_clf.predict(new_data)"
   ]
  },
  {
   "cell_type": "code",
   "execution_count": 41,
   "id": "21684bd6-2d15-42f2-be3d-bad498335252",
   "metadata": {},
   "outputs": [
    {
     "data": {
      "text/plain": "array([1.])"
     },
     "execution_count": 41,
     "metadata": {},
     "output_type": "execute_result"
    }
   ],
   "source": [
    "new_pred"
   ]
  },
  {
   "cell_type": "code",
   "execution_count": 41,
   "id": "d81071a6-2bea-4cbf-be4f-635c34cd0dfa",
   "metadata": {},
   "outputs": [],
   "source": []
  }
 ],
 "metadata": {
  "kernelspec": {
   "display_name": "Python 3 (ipykernel)",
   "language": "python",
   "name": "python3"
  },
  "language_info": {
   "codemirror_mode": {
    "name": "ipython",
    "version": 3
   },
   "file_extension": ".py",
   "mimetype": "text/x-python",
   "name": "python",
   "nbconvert_exporter": "python",
   "pygments_lexer": "ipython3",
   "version": "3.9.7"
  },
  "toc-autonumbering": true,
  "toc-showcode": true,
  "toc-showtags": false
 },
 "nbformat": 4,
 "nbformat_minor": 5
}